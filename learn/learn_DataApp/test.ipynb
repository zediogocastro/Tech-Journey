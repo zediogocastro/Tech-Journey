{
 "cells": [
  {
   "cell_type": "code",
   "execution_count": 1,
   "metadata": {},
   "outputs": [],
   "source": [
    "import pandas as pd"
   ]
  },
  {
   "cell_type": "code",
   "execution_count": 2,
   "metadata": {},
   "outputs": [],
   "source": [
    "df = pd.read_excel('http://tennis-data.co.uk/2024/20234.xlsx')"
   ]
  },
  {
   "cell_type": "code",
   "execution_count": 3,
   "metadata": {},
   "outputs": [
    {
     "data": {
      "text/plain": [
       "Index(['ATP', 'Location', 'Tournament', 'Date', 'Series', 'Court', 'Surface',\n",
       "       'Round', 'Best of', 'Winner', 'Loser', 'WRank', 'LRank', 'WPts', 'LPts',\n",
       "       'W1', 'L1', 'W2', 'L2', 'W3', 'L3', 'W4', 'L4', 'W5', 'L5', 'Wsets',\n",
       "       'Lsets', 'Comment', 'B365W', 'B365L', 'PSW', 'PSL', 'MaxW', 'MaxL',\n",
       "       'AvgW', 'AvgL'],\n",
       "      dtype='object')"
      ]
     },
     "execution_count": 3,
     "metadata": {},
     "output_type": "execute_result"
    }
   ],
   "source": [
    "df.columns"
   ]
  },
  {
   "cell_type": "code",
   "execution_count": 46,
   "metadata": {},
   "outputs": [
    {
     "data": {
      "text/plain": [
       "ATP                                1\n",
       "Location                    Brisbane\n",
       "Tournament    Brisbane International\n",
       "Date             2023-12-31 00:00:00\n",
       "Series                        ATP250\n",
       "Court                        Outdoor\n",
       "Surface                         Hard\n",
       "Round                      1st Round\n",
       "Best of                            3\n",
       "Winner                    Popyrin A.\n",
       "Loser                   O Connell C.\n",
       "WRank                             40\n",
       "LRank                           68.0\n",
       "WPts                            1084\n",
       "LPts                           780.0\n",
       "W1                               6.0\n",
       "L1                               4.0\n",
       "W2                               6.0\n",
       "L2                               7.0\n",
       "W3                               7.0\n",
       "L3                               6.0\n",
       "W4                               NaN\n",
       "L4                               NaN\n",
       "W5                               NaN\n",
       "L5                               NaN\n",
       "Wsets                            2.0\n",
       "Lsets                            1.0\n",
       "Comment                    Completed\n",
       "B365W                           1.62\n",
       "B365L                            2.3\n",
       "PSW                             1.72\n",
       "PSL                             2.23\n",
       "MaxW                            1.77\n",
       "MaxL                            2.32\n",
       "AvgW                            1.68\n",
       "AvgL                            2.17\n",
       "Name: 0, dtype: object"
      ]
     },
     "execution_count": 46,
     "metadata": {},
     "output_type": "execute_result"
    }
   ],
   "source": [
    "df.iloc[0]"
   ]
  },
  {
   "cell_type": "code",
   "execution_count": 51,
   "metadata": {},
   "outputs": [
    {
     "name": "stdout",
     "output_type": "stream",
     "text": [
      "6.0\n",
      "4.0\n",
      "-----\n",
      "6.0\n",
      "7.0\n",
      "-----\n",
      "7.0\n",
      "6.0\n",
      "-----\n"
     ]
    }
   ],
   "source": [
    "for index, row in df.iterrows():\n",
    "    #print(row)\n",
    "    for set_number in range(1, 6): # Loop through 5 possible sets\n",
    "        winner_score = row.get(f\"W{set_number}\")\n",
    "        loser_score = row.get(f\"L{set_number}\")\n",
    "        # Only insert scores where there is data (i.e., not NaN)\n",
    "        if pd.notna(winner_score) and pd.notna(loser_score):\n",
    "            print(winner_score)\n",
    "            print(loser_score)\n",
    "            print('-----')\n",
    "    break"
   ]
  },
  {
   "cell_type": "code",
   "execution_count": 53,
   "metadata": {},
   "outputs": [
    {
     "name": "stdout",
     "output_type": "stream",
     "text": [
      "('Bet365', 1.62, 2.3)\n",
      "('Pinnacle', 1.72, 2.23)\n",
      "('Max', 1.77, 2.32)\n",
      "('Avg', 1.68, 2.17)\n"
     ]
    }
   ],
   "source": [
    "for index, row in df.iterrows():\n",
    "    # Insert Betting Odds for each bookmaker\n",
    "    bookmakers = {\n",
    "        \"Bet365\": (row['B365W'], row['B365L']),\n",
    "        \"Pinnacle\": (row['PSW'], row['PSL']),\n",
    "        \"Max\": (row['MaxW'], row['MaxL']),\n",
    "        \"Avg\": (row['AvgW'], row['AvgL'])\n",
    "    }\n",
    "    for bookmaker, odds in bookmakers.items():\n",
    "        winner_odds, loser_odds = odds\n",
    "        print((bookmaker, winner_odds, loser_odds))\n",
    "    break\n",
    "\n",
    "\n"
   ]
  },
  {
   "cell_type": "code",
   "execution_count": 30,
   "metadata": {},
   "outputs": [
    {
     "name": "stdout",
     "output_type": "stream",
     "text": [
      "Tournaments with multiple locations:\n",
      "Tournament\n",
      "Australian Open                                 7\n",
      "BNP Paribas Open                                7\n",
      "Miami Open                                      7\n",
      "Mutua Madrid Open                               7\n",
      "Internazionali BNL d'Italia                     7\n",
      "Wimbledon                                       7\n",
      "US Open                                         7\n",
      "French Open                                     7\n",
      "Barcelona Open                                  6\n",
      "Monte Carlo Masters                             6\n",
      "Canadian Open                                   6\n",
      "Western & Southern Financial Group Masters      6\n",
      "Winston-Salem Open at Wake Forest University    6\n",
      "Citi Open                                       6\n",
      "ASB Classic                                     5\n",
      "Adelaide International                          5\n",
      "Hong Kong Tennis Open                           5\n",
      "Open Sud de France                              5\n",
      "Brisbane International                          5\n",
      "Chile Open                                      5\n",
      "Dubai Tennis Championships                      5\n",
      "Abierto Mexicano                                5\n",
      "Rio Open                                        5\n",
      "Qatar Exxon Mobil Open                          5\n",
      "Los Cabos Open                                  5\n",
      "ABN AMRO World Tennis Tournament                5\n",
      "Delray Beach Open                               5\n",
      "Cordoba Open                                    5\n",
      "Argentina Open                                  5\n",
      "Open 13                                         5\n",
      "Dallas Open                                     5\n",
      "BMW Open                                        5\n",
      "Tiriac Open                                     5\n",
      "Grand Prix Hassan II                            5\n",
      "Estoril Open                                    5\n",
      "Halle Open                                      5\n",
      "Rosmalen Grass Court Championships              5\n",
      "Stuttgart Open                                  5\n",
      "Lyon Open                                       5\n",
      "Geneva Open                                     5\n",
      "U.S. Men's Clay Court Championships             5\n",
      "Eastbourne International                        5\n",
      "Queen's Club Championships                      5\n",
      "Hall of Fame Championships                      5\n",
      "European Open                                   5\n",
      "Suisse Open Gstaad                              5\n",
      "Nordea Open                                     5\n",
      "Mallorca Championships                          5\n",
      "Croatia Open                                    5\n",
      "Atlanta Open                                    5\n",
      "Generali Open                                   5\n",
      "Name: count, dtype: int64\n"
     ]
    }
   ],
   "source": [
    "# Check for multiple locations for the same tournament\n",
    "duplicates = df.drop_duplicates(subset=['Tournament', 'Round'])\n",
    "\n",
    "# Find tournaments with multiple locations\n",
    "conflicting_tournaments = duplicates['Tournament'].value_counts()\n",
    "conflicting_tournaments = conflicting_tournaments[conflicting_tournaments > 1]\n",
    "\n",
    "if not conflicting_tournaments.empty:\n",
    "    print(\"Tournaments with multiple locations:\")\n",
    "    print(conflicting_tournaments)\n",
    "else:\n",
    "    print(\"No tournaments have multiple locations.\")"
   ]
  },
  {
   "cell_type": "code",
   "execution_count": 33,
   "metadata": {},
   "outputs": [
    {
     "data": {
      "text/plain": [
       "Tournament  Round        \n",
       "US Open     1st Round        64\n",
       "            2nd Round        32\n",
       "            3rd Round        16\n",
       "            4th Round         8\n",
       "            Quarterfinals     4\n",
       "            Semifinals        2\n",
       "            The Final         1\n",
       "dtype: int64"
      ]
     },
     "execution_count": 33,
     "metadata": {},
     "output_type": "execute_result"
    }
   ],
   "source": [
    "t = df[df[\"Tournament\"]==\"US Open\"]\n",
    "t.groupby([\"Tournament\", \"Round\"]).size()"
   ]
  },
  {
   "cell_type": "code",
   "execution_count": 24,
   "metadata": {},
   "outputs": [
    {
     "data": {
      "text/plain": [
       "Tournament                                    Location        \n",
       "ABN AMRO World Tennis Tournament              Rotterdam            31\n",
       "ASB Classic                                   Auckland             27\n",
       "Abierto Mexicano                              Acapulco             31\n",
       "Adelaide International                        Adelaide             27\n",
       "Argentina Open                                Buenos Aires         27\n",
       "Atlanta Open                                  Atlanta              27\n",
       "Australian Open                               Melbourne           127\n",
       "BMW Open                                      Munich               27\n",
       "BNP Paribas Open                              Indian Wells         95\n",
       "Barcelona Open                                Barcelona            47\n",
       "Brisbane International                        Brisbane             31\n",
       "Canadian Open                                 Montreal             55\n",
       "Chile Open                                    Santiago             27\n",
       "Citi Open                                     Washington           47\n",
       "Cordoba Open                                  Cordoba              27\n",
       "Croatia Open                                  Umag                 27\n",
       "Dallas Open                                   Dallas               27\n",
       "Delray Beach Open                             Delray Beach         27\n",
       "Dubai Tennis Championships                    Dubai                31\n",
       "Eastbourne International                      Eastbourne           27\n",
       "Estoril Open                                  Estoril              27\n",
       "European Open                                 Hamburg              31\n",
       "French Open                                   Paris               127\n",
       "Generali Open                                 Kitzbuhel            27\n",
       "Geneva Open                                   Geneva               27\n",
       "Grand Prix Hassan II                          Marrakech            27\n",
       "Hall of Fame Championships                    Newport              27\n",
       "Halle Open                                    Halle                31\n",
       "Hong Kong Tennis Open                         Hong Kong            27\n",
       "Internazionali BNL d'Italia                   Rome                 95\n",
       "Los Cabos Open                                Los Cabos            27\n",
       "Lyon Open                                     Lyon                 27\n",
       "Mallorca Championships                        Mallorca             27\n",
       "Miami Open                                    Miami                95\n",
       "Monte Carlo Masters                           Monte Carlo          55\n",
       "Mutua Madrid Open                             Madrid               95\n",
       "Nordea Open                                   Bastad               27\n",
       "Open 13                                       Marseille            27\n",
       "Open Sud de France                            Montpellier          27\n",
       "Qatar Exxon Mobil Open                        Doha                 27\n",
       "Queen's Club Championships                    Queens Club          31\n",
       "Rio Open                                      Rio de Janeiro       31\n",
       "Rosmalen Grass Court Championships            's-Hertogenbosch     27\n",
       "Stuttgart Open                                Stuttgart            27\n",
       "Suisse Open Gstaad                            Gstaad               27\n",
       "Tiriac Open                                   Bucharest            27\n",
       "U.S. Men's Clay Court Championships           Houston              27\n",
       "US Open                                       New York            127\n",
       "Western & Southern Financial Group Masters    Cincinnati           55\n",
       "Wimbledon                                     London              127\n",
       "Winston-Salem Open at Wake Forest University  Winston-Salem        47\n",
       "dtype: int64"
      ]
     },
     "execution_count": 24,
     "metadata": {},
     "output_type": "execute_result"
    }
   ],
   "source": [
    "df.groupby([\"Tournament\", \"Location\"]).size()"
   ]
  }
 ],
 "metadata": {
  "kernelspec": {
   "display_name": "dataApp",
   "language": "python",
   "name": "python3"
  },
  "language_info": {
   "codemirror_mode": {
    "name": "ipython",
    "version": 3
   },
   "file_extension": ".py",
   "mimetype": "text/x-python",
   "name": "python",
   "nbconvert_exporter": "python",
   "pygments_lexer": "ipython3",
   "version": "3.12.1"
  }
 },
 "nbformat": 4,
 "nbformat_minor": 2
}
