{
 "cells": [
  {
   "cell_type": "code",
   "execution_count": 1,
   "metadata": {},
   "outputs": [],
   "source": [
    "import pandas as pd"
   ]
  },
  {
   "cell_type": "code",
   "execution_count": 2,
   "metadata": {},
   "outputs": [],
   "source": [
    "df = pd.read_excel('http://tennis-data.co.uk/2024/20234.xlsx')"
   ]
  },
  {
   "cell_type": "code",
   "execution_count": 5,
   "metadata": {},
   "outputs": [
    {
     "data": {
      "text/plain": [
       "Index(['ATP', 'Location', 'Tournament', 'Date', 'Series', 'Court', 'Surface',\n",
       "       'Round', 'Best of', 'Winner', 'Loser', 'WRank', 'LRank', 'WPts', 'LPts',\n",
       "       'W1', 'L1', 'W2', 'L2', 'W3', 'L3', 'W4', 'L4', 'W5', 'L5', 'Wsets',\n",
       "       'Lsets', 'Comment', 'B365W', 'B365L', 'PSW', 'PSL', 'MaxW', 'MaxL',\n",
       "       'AvgW', 'AvgL'],\n",
       "      dtype='object')"
      ]
     },
     "execution_count": 5,
     "metadata": {},
     "output_type": "execute_result"
    }
   ],
   "source": [
    "df.columns"
   ]
  },
  {
   "cell_type": "code",
   "execution_count": 9,
   "metadata": {},
   "outputs": [
    {
     "name": "stdout",
     "output_type": "stream",
     "text": [
      "ATP                            51\n",
      "Location                 New York\n",
      "Tournament                US Open\n",
      "Date          2024-09-08 00:00:00\n",
      "Series                 Grand Slam\n",
      "Court                     Outdoor\n",
      "Surface                      Hard\n",
      "Round                   The Final\n",
      "Best of                         5\n",
      "Winner                  Sinner J.\n",
      "Loser                    Fritz T.\n",
      "WRank                           1\n",
      "LRank                        12.0\n",
      "WPts                         9360\n",
      "LPts                       3120.0\n",
      "W1                            6.0\n",
      "L1                            3.0\n",
      "W2                            6.0\n",
      "L2                            4.0\n",
      "W3                            7.0\n",
      "L3                            5.0\n",
      "W4                            NaN\n",
      "L4                            NaN\n",
      "W5                            NaN\n",
      "L5                            NaN\n",
      "Wsets                         3.0\n",
      "Lsets                         0.0\n",
      "Comment                 Completed\n",
      "B365W                        1.25\n",
      "B365L                         4.0\n",
      "PSW                          1.26\n",
      "PSL                          4.37\n",
      "MaxW                         1.28\n",
      "MaxL                          4.5\n",
      "AvgW                         1.24\n",
      "AvgL                         4.19\n",
      "Name: 2224, dtype: object\n"
     ]
    }
   ],
   "source": [
    "print(\n",
    "    df.iloc[-1]\n",
    ")"
   ]
  },
  {
   "cell_type": "code",
   "execution_count": null,
   "metadata": {},
   "outputs": [],
   "source": [
    "1.25 + 1.26 + "
   ]
  }
 ],
 "metadata": {
  "kernelspec": {
   "display_name": "dataApp",
   "language": "python",
   "name": "python3"
  },
  "language_info": {
   "codemirror_mode": {
    "name": "ipython",
    "version": 3
   },
   "file_extension": ".py",
   "mimetype": "text/x-python",
   "name": "python",
   "nbconvert_exporter": "python",
   "pygments_lexer": "ipython3",
   "version": "3.9.19"
  }
 },
 "nbformat": 4,
 "nbformat_minor": 2
}
