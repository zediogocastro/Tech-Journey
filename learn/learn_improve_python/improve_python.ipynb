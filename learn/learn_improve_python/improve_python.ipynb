{
 "cells": [
  {
   "cell_type": "markdown",
   "metadata": {},
   "source": [
    "# ArjanCode Tips"
   ]
  },
  {
   "cell_type": "markdown",
   "metadata": {},
   "source": [
    "## ⚙️ Functions\n",
    "\n",
    "[Video Url](https://www.youtube.com/watch?v=yatgY4NpZXE)"
   ]
  },
  {
   "cell_type": "markdown",
   "metadata": {},
   "source": [
    "### 1. Do 1 thing and do it well"
   ]
  },
  {
   "cell_type": "code",
   "execution_count": 2,
   "metadata": {},
   "outputs": [],
   "source": [
    "from dataclasses import dataclass\n",
    "import datetime"
   ]
  },
  {
   "cell_type": "code",
   "execution_count": 3,
   "metadata": {},
   "outputs": [],
   "source": [
    "@dataclass\n",
    "class Customer:\n",
    "    name: str\n",
    "    phone: str\n",
    "    cc_number: str\n",
    "    cc_exp_month: int\n",
    "    cc_exp_year: int\n",
    "    cc_valid: bool = False"
   ]
  },
  {
   "cell_type": "code",
   "execution_count": 4,
   "metadata": {},
   "outputs": [],
   "source": [
    "## OLD VERSION (Before refactoring)\n",
    "\n",
    "def validate_card(customer: Customer) -> bool:\n",
    "    def digitits_of(number: str) -> list[int]:\n",
    "        return [int(d) for d in number]\n",
    "    \n",
    "    digits = digitits_of(customer.cc_number)\n",
    "    odd_digits = digits[-1::-2]\n",
    "    even_digits = digits[-2::-2]\n",
    "    checksum = 0\n",
    "    checksum += sum(odd_digits)\n",
    "    for digit in even_digits:\n",
    "        checksum += sum(digitits_of(str(digit * 2)))\n",
    "\n",
    "    customer.cc_valid = (\n",
    "        checksum % 10 == 0\n",
    "        and datetime(customer.cc_exp_year, customer.cc_exp_month, 1) > datetime.now()\n",
    "    )\n",
    "    return customer.cc_valid"
   ]
  },
  {
   "cell_type": "code",
   "execution_count": 5,
   "metadata": {},
   "outputs": [
    {
     "name": "stdout",
     "output_type": "stream",
     "text": [
      "Is Alice's card valid? False\n",
      "Customer(name='alice', phone='2341', cc_number='124', cc_exp_month=1, cc_exp_year=2024, cc_valid=False)\n"
     ]
    }
   ],
   "source": [
    "def main() -> None:\n",
    "    alice = Customer(\n",
    "        name=\"alice\",\n",
    "        phone=\"2341\",\n",
    "        cc_number=\"124\",\n",
    "        cc_exp_month=1,\n",
    "        cc_exp_year=2024,\n",
    "    )\n",
    "    is_valid = validate_card(alice)\n",
    "    print(f\"Is Alice's card valid? {is_valid}\")\n",
    "    print(alice)\n",
    "\n",
    "main()"
   ]
  },
  {
   "cell_type": "code",
   "execution_count": 6,
   "metadata": {},
   "outputs": [],
   "source": [
    "## NEW VERSION \n",
    "def luhn_checksum(card_number: str) -> bool:\n",
    "    def digitits_of(number: str) -> list[int]:\n",
    "        return [int(d) for d in number]\n",
    "    \n",
    "    digits = digitits_of(card_number)\n",
    "    odd_digits = digits[-1::-2]\n",
    "    even_digits = digits[-2::-2]\n",
    "    checksum = 0\n",
    "    checksum += sum(odd_digits)\n",
    "    for digit in even_digits:\n",
    "        checksum += sum(digitits_of(str(digit * 2)))\n",
    "    return checksum % 10 == 0\n",
    "\n",
    "def validate_card(customer: Customer) -> bool:\n",
    "    customer.cc_valid = (\n",
    "        luhn_checksum(customer.cc_number)\n",
    "        and datetime(customer.cc_exp_year, customer.cc_exp_month, 1) > datetime.now()\n",
    "    )\n",
    "    return customer.cc_valid"
   ]
  },
  {
   "cell_type": "markdown",
   "metadata": {},
   "source": [
    "### 2. Separate commands from queries"
   ]
  },
  {
   "cell_type": "code",
   "execution_count": 7,
   "metadata": {},
   "outputs": [
    {
     "name": "stdout",
     "output_type": "stream",
     "text": [
      "Is Alice's card valid? False\n",
      "Customer(name='alice', phone='2341', cc_number='124', cc_exp_month=1, cc_exp_year=2024, cc_valid=False)\n"
     ]
    }
   ],
   "source": [
    "def validate_card(customer: Customer) -> bool:\n",
    "    return (\n",
    "        luhn_checksum(customer.cc_number)\n",
    "        and datetime(customer.cc_exp_year, customer.cc_exp_month, 1) > datetime.now()\n",
    "    )\n",
    "\n",
    "def main() -> None:\n",
    "    alice = Customer(\n",
    "        name=\"alice\",\n",
    "        phone=\"2341\",\n",
    "        cc_number=\"124\",\n",
    "        cc_exp_month=1,\n",
    "        cc_exp_year=2024,\n",
    "    )\n",
    "    alice.cc_valid = validate_card(alice)\n",
    "    print(f\"Is Alice's card valid? {alice.cc_valid}\")\n",
    "    print(alice)\n",
    "\n",
    "main()"
   ]
  },
  {
   "cell_type": "markdown",
   "metadata": {},
   "source": [
    "### 3. Only request information you actually need"
   ]
  },
  {
   "cell_type": "code",
   "execution_count": 8,
   "metadata": {},
   "outputs": [
    {
     "name": "stdout",
     "output_type": "stream",
     "text": [
      "Is Alice's card valid? False\n",
      "Customer(name='alice', phone='2341', cc_number='124', cc_exp_month=1, cc_exp_year=2024, cc_valid=False)\n"
     ]
    }
   ],
   "source": [
    "# validate_card was requesting the full Customer, but was not required all the Customer parameters\n",
    "def validate_card(number: int, exp_year: int, exp_month:int) -> bool:\n",
    "    return (\n",
    "        luhn_checksum(number)\n",
    "        and datetime(exp_year, exp_month, 1) > datetime.now()\n",
    "    )\n",
    "\n",
    "def main() -> None:\n",
    "    alice = Customer(\n",
    "        name=\"alice\",\n",
    "        phone=\"2341\",\n",
    "        cc_number=\"124\",\n",
    "        cc_exp_month=1,\n",
    "        cc_exp_year=2024,\n",
    "    )\n",
    "    alice.cc_valid = validate_card(\n",
    "        number = alice.cc_number, \n",
    "        exp_month = alice.cc_exp_year, \n",
    "        exp_year = alice.cc_exp_month\n",
    "    )\n",
    "    \n",
    "    print(f\"Is Alice's card valid? {alice.cc_valid}\")\n",
    "    print(alice)\n",
    "\n",
    "main()"
   ]
  },
  {
   "cell_type": "markdown",
   "metadata": {},
   "source": [
    "### 4. Keep the number of parameters minimal"
   ]
  },
  {
   "cell_type": "code",
   "execution_count": null,
   "metadata": {},
   "outputs": [],
   "source": [
    "from typing import Protocol\n",
    "\n",
    "class CardInfo(Protocol)"
   ]
  }
 ],
 "metadata": {
  "kernelspec": {
   "display_name": "Python (stats)",
   "language": "python",
   "name": "stats"
  },
  "language_info": {
   "codemirror_mode": {
    "name": "ipython",
    "version": 3
   },
   "file_extension": ".py",
   "mimetype": "text/x-python",
   "name": "python",
   "nbconvert_exporter": "python",
   "pygments_lexer": "ipython3",
   "version": "3.10.13"
  }
 },
 "nbformat": 4,
 "nbformat_minor": 2
}
