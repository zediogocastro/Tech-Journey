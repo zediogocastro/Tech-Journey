{
 "cells": [
  {
   "cell_type": "markdown",
   "metadata": {},
   "source": [
    "# ArjanCode Tips"
   ]
  },
  {
   "cell_type": "markdown",
   "metadata": {},
   "source": [
    "## ⚙️ Functions\n",
    "\n",
    "[Video Url](https://www.youtube.com/watch?v=yatgY4NpZXE)"
   ]
  },
  {
   "cell_type": "markdown",
   "metadata": {},
   "source": [
    "### 1. Do 1 thing and do it well"
   ]
  },
  {
   "cell_type": "code",
   "execution_count": 1,
   "metadata": {},
   "outputs": [],
   "source": [
    "from dataclasses import dataclass\n",
    "import datetime"
   ]
  },
  {
   "cell_type": "code",
   "execution_count": 2,
   "metadata": {},
   "outputs": [],
   "source": [
    "@dataclass\n",
    "class Customer:\n",
    "    name: str\n",
    "    phone: str\n",
    "    cc_number: str\n",
    "    cc_exp_month: int\n",
    "    cc_exp_year: int\n",
    "    cc_valid: bool = False"
   ]
  },
  {
   "cell_type": "code",
   "execution_count": 3,
   "metadata": {},
   "outputs": [],
   "source": [
    "## OLD VERSION (Before refactoring)\n",
    "\n",
    "def validate_card(customer: Customer) -> bool:\n",
    "    def digitits_of(number: str) -> list[int]:\n",
    "        return [int(d) for d in number]\n",
    "    \n",
    "    digits = digitits_of(customer.cc_number)\n",
    "    odd_digits = digits[-1::-2]\n",
    "    even_digits = digits[-2::-2]\n",
    "    checksum = 0\n",
    "    checksum += sum(odd_digits)\n",
    "    for digit in even_digits:\n",
    "        checksum += sum(digitits_of(str(digit * 2)))\n",
    "\n",
    "    customer.cc_valid = (\n",
    "        checksum % 10 == 0\n",
    "        and datetime(customer.cc_exp_year, customer.cc_exp_month, 1) > datetime.now()\n",
    "    )\n",
    "    return customer.cc_valid"
   ]
  },
  {
   "cell_type": "code",
   "execution_count": 4,
   "metadata": {},
   "outputs": [
    {
     "name": "stdout",
     "output_type": "stream",
     "text": [
      "Is Alice's card valid? False\n",
      "Customer(name='alice', phone='2341', cc_number='124', cc_exp_month=1, cc_exp_year=2024, cc_valid=False)\n"
     ]
    }
   ],
   "source": [
    "def main() -> None:\n",
    "    alice = Customer(\n",
    "        name=\"alice\",\n",
    "        phone=\"2341\",\n",
    "        cc_number=\"124\",\n",
    "        cc_exp_month=1,\n",
    "        cc_exp_year=2024,\n",
    "    )\n",
    "    is_valid = validate_card(alice)\n",
    "    print(f\"Is Alice's card valid? {is_valid}\")\n",
    "    print(alice)\n",
    "\n",
    "main()"
   ]
  },
  {
   "cell_type": "code",
   "execution_count": 5,
   "metadata": {},
   "outputs": [],
   "source": [
    "## NEW VERSION \n",
    "def luhn_checksum(card_number: str) -> bool:\n",
    "    def digitits_of(number: str) -> list[int]:\n",
    "        return [int(d) for d in number]\n",
    "    \n",
    "    digits = digitits_of(card_number)\n",
    "    odd_digits = digits[-1::-2]\n",
    "    even_digits = digits[-2::-2]\n",
    "    checksum = 0\n",
    "    checksum += sum(odd_digits)\n",
    "    for digit in even_digits:\n",
    "        checksum += sum(digitits_of(str(digit * 2)))\n",
    "    return checksum % 10 == 0\n",
    "\n",
    "def validate_card(customer: Customer) -> bool:\n",
    "    customer.cc_valid = (\n",
    "        luhn_checksum(customer.cc_number)\n",
    "        and datetime(customer.cc_exp_year, customer.cc_exp_month, 1) > datetime.now()\n",
    "    )\n",
    "    return customer.cc_valid"
   ]
  },
  {
   "cell_type": "markdown",
   "metadata": {},
   "source": [
    "### 2. Separate commands from queries"
   ]
  },
  {
   "cell_type": "code",
   "execution_count": 6,
   "metadata": {},
   "outputs": [
    {
     "name": "stdout",
     "output_type": "stream",
     "text": [
      "Is Alice's card valid? False\n",
      "Customer(name='alice', phone='2341', cc_number='124', cc_exp_month=1, cc_exp_year=2024, cc_valid=False)\n"
     ]
    }
   ],
   "source": [
    "def validate_card(customer: Customer) -> bool:\n",
    "    return (\n",
    "        luhn_checksum(customer.cc_number)\n",
    "        and datetime(customer.cc_exp_year, customer.cc_exp_month, 1) > datetime.now()\n",
    "    )\n",
    "\n",
    "def main() -> None:\n",
    "    alice = Customer(\n",
    "        name=\"alice\",\n",
    "        phone=\"2341\",\n",
    "        cc_number=\"124\",\n",
    "        cc_exp_month=1,\n",
    "        cc_exp_year=2024,\n",
    "    )\n",
    "    alice.cc_valid = validate_card(alice)\n",
    "    print(f\"Is Alice's card valid? {alice.cc_valid}\")\n",
    "    print(alice)\n",
    "\n",
    "main()"
   ]
  },
  {
   "cell_type": "markdown",
   "metadata": {},
   "source": [
    "### 3. Only request information you actually need"
   ]
  },
  {
   "cell_type": "code",
   "execution_count": 10,
   "metadata": {},
   "outputs": [
    {
     "name": "stdout",
     "output_type": "stream",
     "text": [
      "Is Alice's card valid? False\n",
      "Customer(name='alice', phone='2341', cc_number='124', cc_exp_month=1, cc_exp_year=2024, cc_valid=False)\n"
     ]
    }
   ],
   "source": [
    "# validate_card was requesting the full Customer, but was not required all the Customer parameters\n",
    "# \"*\" forces the use of keywords\n",
    "def validate_card(*, number: int, exp_year: int, exp_month: int) -> bool:\n",
    "    return (\n",
    "        luhn_checksum(number)\n",
    "        and datetime(exp_year, exp_month, 1) > datetime.now()\n",
    "    )\n",
    "\n",
    "def main() -> None:\n",
    "    alice = Customer(\n",
    "        name=\"alice\",\n",
    "        phone=\"2341\",\n",
    "        cc_number=\"124\",\n",
    "        cc_exp_month=1,\n",
    "        cc_exp_year=2024,\n",
    "    )\n",
    "    alice.cc_valid = validate_card(\n",
    "        number = alice.cc_number, \n",
    "        exp_month = alice.cc_exp_year, \n",
    "        exp_year = alice.cc_exp_month\n",
    "    )\n",
    "    \n",
    "    print(f\"Is Alice's card valid? {alice.cc_valid}\")\n",
    "    print(alice)\n",
    "\n",
    "main()"
   ]
  },
  {
   "cell_type": "markdown",
   "metadata": {},
   "source": [
    "### 4. Keep the number of parameters minimal"
   ]
  },
  {
   "cell_type": "code",
   "execution_count": 27,
   "metadata": {},
   "outputs": [
    {
     "name": "stdout",
     "output_type": "stream",
     "text": [
      "Is Alice's card valid? False\n",
      "Customer(name='alice', phone='2341', cc_number='124', cc_exp_month=1, cc_exp_year=2024, cc_valid=False)\n"
     ]
    }
   ],
   "source": [
    "# the validate_card has too many parameters -> validate_card(*, number: int, exp_year: int, exp_month: int)\n",
    "# if too many parameters, maybe the functions is trying to do too many things instead of doing a single task\n",
    "# improvements:\n",
    "## 1. Could add default values (Sometimes, not possible example exp_year)\n",
    "## 2. Solution: Introduce abstraction by the use of the class CardInfo\n",
    "\n",
    "\n",
    "from typing import Protocol\n",
    "\n",
    "class CardInfo(Protocol):\n",
    "    @property\n",
    "    def cc_number(self) -> str:\n",
    "        ...\n",
    "\n",
    "    @property\n",
    "    def cc_exp_year(self) -> str:\n",
    "        ...\n",
    "\n",
    "    @property\n",
    "    def cc_exp_month(self) -> str:\n",
    "        ...\n",
    "\n",
    "\n",
    "# new version of validate_card only requires 1 parameter\n",
    "def validate_card(card: CardInfo) -> bool:\n",
    "    return (\n",
    "        luhn_checksum(card.cc_number)\n",
    "        and datetime(card.cc_exp_year, card.cc_exp_month, 1) > datetime.now()\n",
    "    )\n",
    "\n",
    "def main() -> None:\n",
    "    alice = Customer(\n",
    "        name=\"alice\",\n",
    "        phone=\"2341\",\n",
    "        cc_number=\"124\",\n",
    "        cc_exp_month=1,\n",
    "        cc_exp_year=2024,\n",
    "    )\n",
    "    alice.cc_valid = validate_card(alice) # here we only need to call with the customer\n",
    "    \n",
    "    print(f\"Is Alice's card valid? {alice.cc_valid}\")\n",
    "    print(alice)\n",
    "\n",
    "main()\n",
    "\n",
    "# validate_card doesn't need to know nothing about the Customer it's juts needs an object\n",
    "# that has a cc_number, cc_exp_year and cc_exp_month"
   ]
  },
  {
   "cell_type": "code",
   "execution_count": 32,
   "metadata": {},
   "outputs": [
    {
     "name": "stdout",
     "output_type": "stream",
     "text": [
      "Is Alice's card valid? False\n",
      "Customer(name='alice', phone='2341', card=Card(number='124', exp_month=1, exp_year=2024), cc_valid=False)\n"
     ]
    }
   ],
   "source": [
    "# Still for now the class Customer contains too many variables and has the potential to become a big class\n",
    "# Solution: introduce classes to represent sub-objects\n",
    "\n",
    "@dataclass\n",
    "class Card: \n",
    "    number: str\n",
    "    exp_month: int\n",
    "    exp_year: int\n",
    "\n",
    "@dataclass\n",
    "class Customer:\n",
    "    name: str\n",
    "    phone: str\n",
    "    card: Card\n",
    "    cc_valid: bool = False\n",
    "\n",
    "# just rename the variables\n",
    "def validate_card(card: CardInfo) -> bool:\n",
    "    return (\n",
    "        luhn_checksum(card.number)\n",
    "        and datetime(card.exp_year, card.exp_month, 1) > datetime.now()\n",
    "    )\n",
    "\n",
    "def main() -> None:\n",
    "    card = Card(number=\"124\", exp_month=1, exp_year=2024)\n",
    "    alice = Customer(name=\"alice\", phone=\"2341\", card=card)\n",
    "    alice.cc_valid = validate_card(card) \n",
    "    \n",
    "    print(f\"Is Alice's card valid? {alice.cc_valid}\")\n",
    "    print(alice)\n",
    "\n",
    "main()\n",
    "\n",
    "# Parameters and Arguments are not the same!!!\n",
    "# \n",
    "# Parameters are part of the defenition of a function\n",
    "# Agruments are the values that you set to this parameters "
   ]
  },
  {
   "cell_type": "markdown",
   "metadata": {},
   "source": [
    "### 5. Don't create and use an object in the same place"
   ]
  },
  {
   "cell_type": "code",
   "execution_count": 45,
   "metadata": {},
   "outputs": [
    {
     "name": "stderr",
     "output_type": "stream",
     "text": [
      "INFO:root:Order total is 17.00 €.\n",
      "INFO:root:Charging 17.00 € using Stripe\n",
      "INFO:root:Order completed.\n"
     ]
    }
   ],
   "source": [
    "### BEFORE\n",
    "import logging\n",
    "\n",
    "class StripePaymentHandler:\n",
    "    def handle_payment(self, amount: int) -> None:\n",
    "        logging.info(f\"Charging {amount/100:.2f} € using Stripe\")\n",
    "\n",
    "PRICES = {\n",
    "    \"burger\": 10_00,\n",
    "    \"fries\": 5_00,\n",
    "    \"drink\": 2_00,\n",
    "    \"salad\": 15_00,\n",
    "}\n",
    "\n",
    "def order_food(items: list[str]) -> None:\n",
    "    total = sum(PRICES[item] for item in items)\n",
    "    logging.info(f\"Order total is {total/100:.2f} €.\")\n",
    "    payment_handler = StripePaymentHandler()\n",
    "    payment_handler.handle_payment(total)\n",
    "    logging.info(\"Order completed.\")\n",
    "\n",
    "def main() -> None:\n",
    "    logging.basicConfig(level=logging.INFO, force=True)\n",
    "    order_food([\"burger\", \"fries\", \"drink\"])\n",
    "\n",
    "\n",
    "main()"
   ]
  },
  {
   "cell_type": "code",
   "execution_count": 46,
   "metadata": {},
   "outputs": [
    {
     "name": "stderr",
     "output_type": "stream",
     "text": [
      "INFO:root:Order total is 17.00 €.\n",
      "INFO:root:Charging 17.00 € using Stripe\n",
      "INFO:root:Order completed.\n"
     ]
    }
   ],
   "source": [
    "#### AFTER\n",
    "\n",
    "# payment_handler = StripePaymentHandler()\n",
    "# payment_handler.handle_payment(total)\n",
    "## This makes order_food harder to test becaus we need to patch the StripePaymentHandler\n",
    "## INSTEAD we should create a dependeny injection\n",
    "def order_food(items: list[str], payment_handler:StripePaymentHandler ) -> None:\n",
    "    total = sum(PRICES[item] for item in items)\n",
    "    logging.info(f\"Order total is {total/100:.2f} €.\")\n",
    "    payment_handler.handle_payment(total)\n",
    "    logging.info(\"Order completed.\")\n",
    "\n",
    "def main() -> None:\n",
    "    logging.basicConfig(level=logging.INFO, force=True)\n",
    "    payment_handler = StripePaymentHandler()\n",
    "    order_food([\"burger\", \"fries\", \"drink\"], payment_handler)\n",
    "\n",
    "\n",
    "main()"
   ]
  },
  {
   "cell_type": "code",
   "execution_count": 61,
   "metadata": {},
   "outputs": [
    {
     "name": "stderr",
     "output_type": "stream",
     "text": [
      "INFO:root:Order total is 17.00 € in Portugal in Porto\n",
      "INFO:root:Charging  17.00 € using Stripe\n",
      "INFO:root:Order completed.\n"
     ]
    }
   ],
   "source": [
    "#### Even better using abstraction\n",
    "\n",
    "from typing import Protocol\n",
    "\n",
    "class StripePaymentHandler:\n",
    "    def handle_payment(self, amount: int) -> None:\n",
    "        logging.info(\"Charging  %.2f € using Stripe\", amount/100)\n",
    "\n",
    "class PaymentHandler(Protocol):\n",
    "    @property\n",
    "    def handle_payment(self, amount: int) -> None:\n",
    "        ...\n",
    "\n",
    "def order_food(items: list[str], payment_handler: PaymentHandler) -> None:\n",
    "    total = sum(PRICES[item] for item in items)\n",
    "    logging.info(\"Order total is %.2f € in %s in %s\", total/100, \"Portugal\", \"Porto\")\n",
    "    payment_handler.handle_payment(total)\n",
    "    logging.info(\"Order completed.\")\n",
    "\n",
    "def main() -> None:\n",
    "    logging.basicConfig(level=logging.INFO, force=True)\n",
    "    payment_handler = StripePaymentHandler()\n",
    "    order_food([\"burger\", \"fries\", \"drink\"], payment_handler)\n",
    "\n",
    "\n",
    "main()"
   ]
  },
  {
   "cell_type": "markdown",
   "metadata": {},
   "source": [
    "### 6. Don't use flag arguments"
   ]
  },
  {
   "cell_type": "code",
   "execution_count": 2,
   "metadata": {},
   "outputs": [
    {
     "data": {
      "text/plain": [
       "4"
      ]
     },
     "execution_count": 2,
     "metadata": {},
     "output_type": "execute_result"
    }
   ],
   "source": [
    "from dataclasses import dataclass\n",
    "from enum import StrEnum, auto\n",
    "\n",
    "FIXED_VACATION_DAYS_PAYOUT = 5\n",
    "\n",
    "class Role(StrEnum):\n",
    "    PRESIDENT = auto()\n",
    "    VICEPRESIDENT = auto()\n",
    "    MANAGER = auto()\n",
    "    LEAD = auto()\n",
    "    ENGINEER = auto()\n",
    "    INTERN = auto()\n",
    "\n",
    "@dataclass\n",
    "class Employee:\n",
    "    name: str\n",
    "    role: Role\n",
    "    vacation_days: int = 25\n",
    "\n",
    "    def take_a_holiday(self, payout: bool, nr_days: int = 1) -> None:\n",
    "        if payout:\n",
    "            if self.vacation_days < FIXED_VACATION_DAYS_PAYOUT:\n",
    "                raise ValueError(\n",
    "                    f\"You don't have enough holidays left over for a payout.\\\n",
    "                        Remaining holidays:{self.vacation_days} \")\n",
    "            self.vacation_days -= FIXED_VACATION_DAYS_PAYOUT\n",
    "            print(f\"Paying out a holiday. Holidays left: {self.vacation_days}\")\n",
    "        else:\n",
    "            if  self.vacation_days < nr_days:\n",
    "                raise ValueError(\n",
    "                    \"You don't have any holidays left. Now back to work, you!\"\n",
    "                )\n",
    "            self.vacation_days -= nr_days\n",
    "            print(\"Have fun on your holiday. Don't forget to check your emails!\")"
   ]
  }
 ],
 "metadata": {
  "kernelspec": {
   "display_name": "Python (stats)",
   "language": "python",
   "name": "stats"
  },
  "language_info": {
   "codemirror_mode": {
    "name": "ipython",
    "version": 3
   },
   "file_extension": ".py",
   "mimetype": "text/x-python",
   "name": "python",
   "nbconvert_exporter": "python",
   "pygments_lexer": "ipython3",
   "version": "3.10.13"
  }
 },
 "nbformat": 4,
 "nbformat_minor": 2
}
